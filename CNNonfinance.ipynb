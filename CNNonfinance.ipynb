{
  "nbformat": 4,
  "nbformat_minor": 0,
  "metadata": {
    "colab": {
      "private_outputs": true,
      "provenance": [],
      "cell_execution_strategy": "setup",
      "authorship_tag": "ABX9TyObO8dmCpbcF+uvqK7CXwph",
      "include_colab_link": true
    },
    "kernelspec": {
      "name": "python3",
      "display_name": "Python 3"
    },
    "language_info": {
      "name": "python"
    }
  },
  "cells": [
    {
      "cell_type": "markdown",
      "metadata": {
        "id": "view-in-github",
        "colab_type": "text"
      },
      "source": [
        "<a href=\"https://colab.research.google.com/github/mercuryandmercury/address/blob/main/CNNonfinance.ipynb\" target=\"_parent\"><img src=\"https://colab.research.google.com/assets/colab-badge.svg\" alt=\"Open In Colab\"/></a>"
      ]
    },
    {
      "cell_type": "code",
      "execution_count": null,
      "metadata": {
        "id": "HmxH39citEYu"
      },
      "outputs": [],
      "source": [
        "import pandas as pd\n",
        "import numpy as np\n",
        "from statsmodels.graphics.tsaplots import plot_acf\n",
        "import seaborn as sb\n",
        "import plotly.express as px\n",
        "from matplotlib import pyplot as plt\n",
        "import yfinance as yf"
      ]
    },
    {
      "cell_type": "code",
      "source": [
        "# Retrieve historical stock data from Yahoo Finance\n",
        "symbol = 'AAPL'  # Example stock symbol (Apple Inc.)\n",
        "data = yf.download(symbol, start='2000-01-01', end='2023-01-01')"
      ],
      "metadata": {
        "id": "feHuutywtR-I"
      },
      "execution_count": null,
      "outputs": []
    },
    {
      "cell_type": "code",
      "source": [
        "\n",
        "# Feature extraction - statistical features\n",
        "data['mean'] = data['Close'].rolling(window=20).mean()\n",
        "data['median'] = data['Close'].rolling(window=20).median()\n",
        "data['std_dev'] = data['Close'].rolling(window=20).std()\n",
        "data['skewness'] = data['Close'].rolling(window=20).skew()\n",
        "data['kurtosis'] = data['Close'].rolling(window=20).kurt()\n",
        "# Drop rows with NaN values\n",
        "data.dropna(inplace=True)\n",
        "#Check for missing values and handle them if present\n",
        "if data.isnull().values.any():\n",
        "    data = data.fillna(method='ffill')  # Forward-fill missing values\n",
        "# Drop rows with NaN values\n",
        "data.dropna(inplace=True)\n",
        "\n",
        "# Visualizing statistical features\n",
        "plt.figure(figsize=(15, 15))\n",
        "\n",
        "# Visualization code for statistical features (same as before)\n",
        "# ... (omitting for brevity)\n",
        "# ... (you can use the visualization code provided earlier)\n",
        "plt.subplot(2, 2, 1)\n",
        "plt.plot(data.index, data['mean'], label='Mean')\n",
        "plt.legend()\n",
        "plt.title('Rolling Mean')\n",
        "\n",
        "plt.subplot(2, 2, 2)\n",
        "plt.plot(data.index, data['median'], label='Median', color='orange')\n",
        "plt.legend()\n",
        "plt.title('Rolling Median')\n",
        "\n",
        "plt.subplot(2, 2, 3)\n",
        "plt.plot(data.index, data['std_dev'], label='Standard Deviation', color='green')\n",
        "plt.legend()\n",
        "plt.title('Rolling Standard Deviation')\n",
        "\n",
        "plt.subplot(2, 2, 4)\n",
        "plt.plot(data.index, data['skewness'], label='Skewness', color='red')\n",
        "plt.plot(data.index, data['kurtosis'], label='Kurtosis', color='blue')  # Include Kurtosis plot\n",
        "plt.legend()\n",
        "plt.legend()\n",
        "plt.title('Rolling Skewness')\n",
        "plt.tight_layout()\n",
        "plt.show()"
      ],
      "metadata": {
        "id": "4XOQ5ujt0shG"
      },
      "execution_count": null,
      "outputs": []
    },
    {
      "cell_type": "code",
      "source": [
        "# Check for missing values\n",
        "print(data.isnull().sum())  # Check for missing values in each column\n",
        "\n",
        "# Handling missing values\n",
        "data = data.fillna(method='ffill')  # Forward-fill missing values\n",
        "\n",
        "# Removing duplicates if any\n",
        "data = data[~data.index.duplicated(keep='first')]\n",
        "\n",
        "# Checking for outliers and potential treatments\n",
        "# Example: Detecting outliers using standard deviation\n",
        "std = data['Close'].std()\n",
        "mean = data['Close'].mean()\n",
        "outlier_threshold = mean + (3 * std)  # Consider values 3 standard deviations away as outliers\n",
        "outliers = data[data['Close'] > outlier_threshold]\n",
        "\n",
        "# Remove outliers\n",
        "data = data[data['Close'] <= outlier_threshold]\n",
        "\n",
        "# Ensuring data consistency - Not applicable in this context\n",
        "\n",
        "# Confirming changes\n",
        "print(data.head())  # Display cleaned data"
      ],
      "metadata": {
        "id": "HJcb9cq4tVU4"
      },
      "execution_count": null,
      "outputs": []
    },
    {
      "cell_type": "code",
      "source": [
        "# Check for missing values and handle them if present\n",
        "if data.isnull().values.any():\n",
        "    data = data.fillna(method='ffill')  # Forward-fill missing values\n",
        "\n",
        "# Plotting Date vs Volume\n",
        "plt.figure(figsize=(12, 6))\n",
        "plt.plot(data.index, data['Volume'], color='blue')\n",
        "plt.title('Date vs Volume for ' + symbol)\n",
        "plt.xlabel('Date')\n",
        "plt.ylabel('Volume')\n",
        "plt.grid(True)\n",
        "plt.show()"
      ],
      "metadata": {
        "id": "pO7Xp9yVul8w"
      },
      "execution_count": null,
      "outputs": []
    },
    {
      "cell_type": "code",
      "source": [
        "# Plotting Date vs High Prices\n",
        "plt.figure(figsize=(12, 6))\n",
        "plt.plot(data.index, data['High'], color='green')\n",
        "plt.title('Date vs High Prices for ' + symbol)\n",
        "plt.xlabel('Date')\n",
        "plt.ylabel('High Prices')\n",
        "plt.grid(True)\n",
        "plt.show()"
      ],
      "metadata": {
        "id": "g61CqH1Vu3i3"
      },
      "execution_count": null,
      "outputs": []
    },
    {
      "cell_type": "code",
      "source": [
        "# Calculate Simple Moving Average (SMA)\n",
        "window = 5  # Define the window for the SMA\n",
        "data['SMA'] = data['Close'].rolling(window=window).mean()\n",
        "\n",
        "# Check for missing values and handle them if present\n",
        "if data.isnull().values.any():\n",
        "    data = data.fillna(method='ffill')  # Forward-fill missing values\n",
        "\n",
        "# Plotting Date vs Close Prices with SMA\n",
        "plt.figure(figsize=(12, 6))\n",
        "plt.plot(data.index, data['Close'], label='Close Prices', color='blue')\n",
        "plt.plot(data.index, data['SMA'], label='SMA (' + str(window) + ')', color='red')\n",
        "plt.title('Simple Moving Average (SMA) for ' + symbol)\n",
        "plt.xlabel('Date')\n",
        "plt.ylabel('Price')\n",
        "plt.legend()\n",
        "plt.grid(True)\n",
        "plt.show()"
      ],
      "metadata": {
        "id": "GN02basxv0Bn"
      },
      "execution_count": null,
      "outputs": []
    },
    {
      "cell_type": "code",
      "source": [
        "from statsmodels.graphics.tsaplots import plot_acf"
      ],
      "metadata": {
        "id": "8P53CQFSwIJf"
      },
      "execution_count": null,
      "outputs": []
    },
    {
      "cell_type": "code",
      "source": [
        "# Check for missing values and handle them if present\n",
        "if data.isnull().values.any():\n",
        "    data = data.fillna(method='ffill')  # Forward-fill missing values\n",
        "\n",
        "# Plotting Autocorrelation\n",
        "plt.figure(figsize=(10, 6))\n",
        "plot_acf(data['Close'], lags=50)  # Change 'Close' to any other column if needed\n",
        "plt.title('Autocorrelation Plot of Close Prices for ' + symbol)\n",
        "plt.xlabel('Lag')\n",
        "plt.ylabel('Autocorrelation')\n",
        "plt.grid(True)\n",
        "plt.show()"
      ],
      "metadata": {
        "id": "bDM7_QDbwt_n"
      },
      "execution_count": null,
      "outputs": []
    },
    {
      "cell_type": "code",
      "source": [
        "import seaborn as sns\n",
        "# Compute the correlation matrix\n",
        "correlation_matrix = data.corr()\n",
        "# Plotting the heatmap\n",
        "plt.figure(figsize=(10, 8))\n",
        "sns.heatmap(correlation_matrix, annot=True, cmap='coolwarm', fmt=\".2f\")\n",
        "plt.title('Correlation Heatmap of Stock Market Data for ' + symbol)\n",
        "plt.show()"
      ],
      "metadata": {
        "id": "fRkEjU-4w9jv"
      },
      "execution_count": null,
      "outputs": []
    },
    {
      "cell_type": "code",
      "source": [
        "import yfinance as yf\n",
        "import numpy as np\n",
        "import matplotlib.pyplot as plt\n",
        "from sklearn.model_selection import train_test_split\n",
        "from tensorflow.keras.models import Sequential\n",
        "from tensorflow.keras.layers import Conv1D, MaxPooling1D, Flatten, Dense\n",
        "\n",
        "# Retrieve historical stock data from Yahoo Finance\n",
        "symbol = 'AAPL'  # Example stock symbol (Apple Inc.)\n",
        "data = yf.download(symbol, start='2021-01-01', end='2023-01-01')\n",
        "\n",
        "# Check for missing values and handle them if present\n",
        "if data.isnull().values.any():\n",
        "    data = data.fillna(method='ffill')  # Forward-fill missing values\n",
        "\n",
        "# Feature extraction (assuming 'Close' prices as the target variable)\n",
        "target = data['Close'].values\n",
        "\n",
        "# Normalize the data\n",
        "data = (data - data.mean()) / data.std()\n",
        "\n",
        "# Convert data to 3D array for CNN input\n",
        "window_size = 20  # Example window size\n",
        "X = np.array([data[i-window_size:i].values for i in range(window_size, len(data))])\n",
        "y = target[window_size:]\n",
        "\n",
        "# Split data into training and testing sets\n",
        "X_train, X_test, y_train, y_test = train_test_split(X, y, test_size=0.2, shuffle=False)\n",
        "\n",
        "# Constructing the CNN model\n",
        "model = Sequential()\n",
        "model.add(Conv1D(filters=64, kernel_size=2, activation='relu', input_shape=(X_train.shape[1], X_train.shape[2])))\n",
        "model.add(MaxPooling1D(pool_size=2))\n",
        "model.add(Flatten())\n",
        "model.add(Dense(50, activation='relu'))\n",
        "model.add(Dense(1))  # Output layer\n",
        "\n",
        "# Compile the model\n",
        "model.compile(optimizer='adam', loss='mean_squared_error')\n",
        "\n",
        "# Train the model\n",
        "history = model.fit(X_train, y_train, epochs=50, batch_size=32, validation_data=(X_test, y_test), verbose=1)\n",
        "\n",
        "# Plotting training history (loss)\n",
        "plt.plot(history.history['loss'], label='Training Loss')\n",
        "plt.plot(history.history['val_loss'], label='Validation Loss')\n",
        "plt.legend()\n",
        "plt.xlabel('Epochs')\n",
        "plt.ylabel('Loss')\n",
        "plt.title('Training and Validation Loss')\n",
        "plt.show()\n",
        "\n",
        "# Evaluating model on test data\n",
        "test_loss = model.evaluate(X_test, y_test)\n",
        "print(f'Test Loss: {test_loss}')\n",
        "\n",
        "# Generating predictions\n",
        "predicted_prices = model.predict(X_test)\n",
        "\n",
        "# Visualizing predictions vs actual prices\n",
        "plt.figure(figsize=(10, 6))\n",
        "plt.plot(y_test, label='Actual Prices')\n",
        "plt.plot(predicted_prices, label='Predicted Prices', linestyle='--')\n",
        "plt.legend()\n",
        "plt.xlabel('Time')\n",
        "plt.ylabel('Price')\n",
        "plt.title('Actual vs Predicted Prices')\n",
        "plt.show()\n"
      ],
      "metadata": {
        "id": "u9X-Qr7Bxbv1"
      },
      "execution_count": null,
      "outputs": []
    },
    {
      "cell_type": "code",
      "source": [
        "from sklearn.metrics import mean_absolute_error, mean_squared_error\n",
        "\n",
        "# Calculating MAE, RMSE, MSE\n",
        "mae = mean_absolute_error(y_test, predicted_prices)\n",
        "mse = mean_squared_error(y_test, predicted_prices)\n",
        "rmse = np.sqrt(mse)\n",
        "\n",
        "print(f'Mean Absolute Error (MAE): {mae}')\n",
        "print(f'Mean Squared Error (MSE): {mse}')\n",
        "print(f'Root Mean Squared Error (RMSE): {rmse}')\n"
      ],
      "metadata": {
        "id": "ZJPw9Pnry9HH"
      },
      "execution_count": null,
      "outputs": []
    },
    {
      "cell_type": "code",
      "source": [],
      "metadata": {
        "id": "YC8cb8DqzmIf"
      },
      "execution_count": null,
      "outputs": []
    }
  ]
}